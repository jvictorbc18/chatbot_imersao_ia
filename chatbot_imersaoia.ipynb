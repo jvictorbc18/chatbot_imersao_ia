{
  "nbformat": 4,
  "nbformat_minor": 0,
  "metadata": {
    "colab": {
      "provenance": [],
      "mount_file_id": "1RCwM7iodtUeM0EzNCEWlN5BOsF4koPGb",
      "authorship_tag": "ABX9TyPRGVfJM7Q4dBQrBoQnNkoW",
      "include_colab_link": true
    },
    "kernelspec": {
      "name": "python3",
      "display_name": "Python 3"
    },
    "language_info": {
      "name": "python"
    }
  },
  "cells": [
    {
      "cell_type": "markdown",
      "metadata": {
        "id": "view-in-github",
        "colab_type": "text"
      },
      "source": [
        "<a href=\"https://colab.research.google.com/github/jvictorbc18/chatbot_imersao_ia/blob/main/chatbot_imersaoia.ipynb\" target=\"_parent\"><img src=\"https://colab.research.google.com/assets/colab-badge.svg\" alt=\"Open In Colab\"/></a>"
      ]
    },
    {
      "cell_type": "code",
      "source": [
        "pip install pandas\n"
      ],
      "metadata": {
        "id": "S9lAypK0XL28"
      },
      "execution_count": null,
      "outputs": []
    },
    {
      "cell_type": "markdown",
      "source": [
        "Importação das bibliotecas que serão utilizadas utilizadas"
      ],
      "metadata": {
        "id": "L4Gj5tX4TyBU"
      }
    },
    {
      "cell_type": "code",
      "source": [
        "import google.generativeai as genai, requests, json, pandas as pd\n"
      ],
      "metadata": {
        "id": "teGk8I8uTwJA"
      },
      "execution_count": 3,
      "outputs": []
    },
    {
      "cell_type": "markdown",
      "source": [
        "Acessando minha chave API"
      ],
      "metadata": {
        "id": "Doyze_EVXu9Z"
      }
    },
    {
      "cell_type": "code",
      "source": [
        "from google.colab import userdata\n",
        "api_key = userdata.get('SECRET_KEY')\n",
        "genai.configure(api_key=api_key)"
      ],
      "metadata": {
        "id": "CEoXp_4niTvP"
      },
      "execution_count": 2,
      "outputs": []
    },
    {
      "cell_type": "markdown",
      "source": [
        "Código utilizando para acessar o banco de dados local para crianças desaparecidas."
      ],
      "metadata": {
        "id": "JgfgeLo3WMGz"
      }
    },
    {
      "cell_type": "code",
      "source": [
        "# Carregar o banco de dados JSON em um DataFrame\n",
        "dados_df = pd.read_json('/content/drive/MyDrive/base_dados/dados_criancas_desaparecidas.json')\n",
        "\n",
        "def obter_informacoes_crianca(nome_crianca):\n",
        "  \"\"\"\n",
        "  Função para obter informações de uma criança específica do banco de dados.\n",
        "\n",
        "  Argumentos:\n",
        "      nome_crianca (str): Nome da criança a ser pesquisada.\n",
        "\n",
        "  Retorno:\n",
        "      dict ou None: Dicionário contendo as informações da criança se encontrada, ou None caso não seja encontrada.\n",
        "  \"\"\"\n",
        "  crianca_df = dados_df[dados_df['nome'] == nome_crianca]\n",
        "  if not crianca_df.empty:\n",
        "    return crianca_df.iloc[0].to_dict()\n",
        "  else:\n",
        "    print(f\"A criança com o nome '{nome_crianca}' não foi encontrada no banco de dados.\")\n",
        "    return None\n",
        "\n",
        "def inserir_nova_crianca():\n",
        "  \"\"\"\n",
        "  Função para inserir uma nova criança no banco de dados.\n",
        "  \"\"\"\n",
        "  nome = input(\"Digite o nome da criança desaparecida: \")\n",
        "  idade = input(\"Digite a idade da criança desaparecida: \")\n",
        "  etnia = input(\"Digite a etnia da criança desaparecida: \")\n",
        "  data_desaparecimento = input(\"Digite a data de desaparecimento da criança desaparecida (AAAA-MM-DD): \")\n",
        "  hora_desaparecimento = input(\"Digite a hora de desaparecimento da criança desaparecida(HH:MM): \")\n",
        "  descricao = input(\"Digite uma descrição da criança desaparecida: \")\n",
        "  imagem = input(\"Digite o link da imagem da criança desaparecida: \")\n",
        "  local_desaparecimento = input(\"Digite o local de desaparecimento da criança desaparecida: \")\n",
        "  informacoes_adicionais = input(\"Digite informações adicionais sobre a criança desaparecida: \")\n",
        "  contato_policia = input(\"Digite o contato da polícia para a criança desaparecida: \")\n",
        "  contato_familia = input(\"Digite o contato da família para a criança desaparecida: \")\n",
        "\n",
        "  nova_crianca = pd.DataFrame({\n",
        "    'nome': [nome],\n",
        "    'idade': [idade],\n",
        "    'etnia': [etnia],\n",
        "    'data_desaparecimento': [data_desaparecimento],\n",
        "    'hora_desaparecimento': [hora_desaparecimento],\n",
        "    'descricao': [descricao],\n",
        "    'imagem': [imagem],\n",
        "    'local_desaparecimento': [local_desaparecimento],\n",
        "    'informacoes_adicionais': [informacoes_adicionais],\n",
        "    'contato_policia': [contato_policia],\n",
        "    'contato_familia': [contato_familia]\n",
        "  })\n",
        "\n",
        "  global dados_df\n",
        "  dados_df = pd.concat([dados_df, nova_crianca], ignore_index=True)\n",
        "  print(\"Nova criança inserida com sucesso.\")\n",
        "\n",
        "def gerar_aviso_alerta(informacoes_crianca):\n",
        "  \"\"\"\n",
        "  Função para gerar um aviso de alerta com base nas informações da criança.\n",
        "\n",
        "  Argumentos:\n",
        "      informacoes_crianca (dict): Dicionário contendo as informações da criança.\n",
        "  \"\"\"\n",
        "  model = genai.GenerativeModel('gemini-pro')\n",
        "  texto_aviso = model.generate_content(f\"Alerta: {informacoes_crianca['nome']} desapareceu! {informacoes_crianca['descricao']}, no dia {informacoes_crianca['data_desaparecimento']}, na hora {informacoes_crianca['hora_desaparecimento']}. As circunstâncias do desaparecimento foram {informacoes_crianca['circunstancias_desaparecimento']}. Último local: {informacoes_crianca['local_desaparecimento']} Por favor, entre em contato com as autoridades imediatamente! Contato da família: {informacoes_crianca['contato_familia']}\")\n",
        "  print(\"Aviso de Alerta:\")\n",
        "  print(texto_aviso.text)\n",
        "\n",
        "# Ciclo principal do programa\n",
        "while True:\n",
        "  # Menu principal\n",
        "  print(\"\\nMenu Principal:\")\n",
        "  print(\"1. Obter informações de uma criança\")\n",
        "  print(\"2. Inserir nova criança\")\n",
        "  print(\"3. Gerar aviso de alerta\")\n",
        "  print(\"4. Sair\")\n",
        "\n",
        "  opcao = input(\"Digite a opção desejada: \")\n",
        "\n",
        "  if opcao == '1':\n",
        "    nome_crianca = input(\"Digite o nome da criança para obter informações: \")\n",
        "    informacoes_crianca = obter_informacoes_crianca(nome_crianca)\n",
        "    if informacoes_crianca:\n",
        "      print(\"\\nInformações da criança:\")\n",
        "      for chave, valor in informacoes_crianca.items():\n",
        "        print(f\"{chave}: {valor}\")\n",
        "  elif opcao == '2':\n",
        "    inserir_nova_crianca()\n",
        "  elif opcao == '3':\n",
        "    nome_crianca = input(\"Informe o nome da criança para gerar o aviso de alerta: \")\n",
        "    if nome_crianca in dados_df['nome'].values:\n",
        "      informacoes_crianca = dados_df[dados_df['nome'] == nome_crianca].to_dict(orient='records')[0]\n",
        "      gerar_aviso_alerta(informacoes_crianca)\n",
        "    else:\n",
        "      print(\"Criança não encontrada nos dados fornecidos.\")\n",
        "  elif opcao == '4':\n",
        "    # Salvar o DataFrame atualizado de volta no arquivo JSON\n",
        "    dados_df.to_json('/content/drive/MyDrive/base_dados/dados_criancas_desaparecidas.json', orient='records', indent=4)\n",
        "    print(\"Saindo do programa.\")\n",
        "    break\n",
        "  else:\n",
        "    print(\"Opção inválida. Por favor, digite um número entre 1 e 4.\")\n"
      ],
      "metadata": {
        "id": "j7qBabrRXkEM",
        "colab": {
          "base_uri": "https://localhost:8080/"
        },
        "outputId": "5f92ad5d-e13e-4775-aa0b-0cc1f3a19bf8"
      },
      "execution_count": 4,
      "outputs": [
        {
          "output_type": "stream",
          "name": "stdout",
          "text": [
            "\n",
            "Menu Principal:\n",
            "1. Obter informações de uma criança\n",
            "2. Inserir nova criança\n",
            "3. Gerar aviso de alerta\n",
            "4. Sair\n",
            "Digite a opção desejada: 1\n",
            "Digite o nome da criança para obter informações: Ana Silva\n",
            "\n",
            "Informações da criança:\n",
            "nome: Ana Silva\n",
            "idade: 7\n",
            "etnia: Branca\n",
            "data_desaparecimento: 2024-05-08\n",
            "hora_desaparecimento: 10:30\n",
            "descricao: Ana foi vista pela última vez brincando no parque local. Ela usava uma camisa rosa, shorts jeans e tênis vermelhos. Ela tem cabelo castanho curto e olhos azuis.\n",
            "imagem: https://www.pinterest.com/pin/animal-rescue-and-protection--339107046913409280/\n",
            "local_desaparecimento: Parque Municipal da Cidade\n",
            "circunstancias_desaparecimento: Ana estava brincando com outras crianças quando foi vista pela última vez. As outras crianças não sabem o que aconteceu com ela.\n",
            "informacoes_adicionais: Ana tem uma cicatriz na bochecha esquerda em forma de estrela. Ela também usa aparelho dental.\n",
            "contato_policia: (11) 3333-4444\n",
            "contato_familia: (11) 5555-6666\n",
            "\n",
            "Menu Principal:\n",
            "1. Obter informações de uma criança\n",
            "2. Inserir nova criança\n",
            "3. Gerar aviso de alerta\n",
            "4. Sair\n",
            "Digite a opção desejada: 4\n",
            "Saindo do programa.\n"
          ]
        }
      ]
    }
  ]
}